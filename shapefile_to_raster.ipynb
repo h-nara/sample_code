{
 "cells": [
  {
   "cell_type": "markdown",
   "metadata": {},
   "source": [
    "note\n",
    "\n",
    "1:rasterio doesn't work on python3.8 probably.\\\n",
    "    therefore you need other python envirnment on less than python3.7\\\n",
    "    (this code work on python3.7)\n",
    "\n",
    "2:installing rasterio\\\n",
    "    conda install rasterio -c conda-forge\n",
    "    \n",
    "3:reference\\\n",
    "https://rasterio.readthedocs.io/en/stable/api/rasterio.features.html#rasterio.features.rasterize"
   ]
  },
  {
   "cell_type": "code",
   "execution_count": 1,
   "metadata": {},
   "outputs": [],
   "source": [
    "import numpy as np\n",
    "import matplotlib.pyplot as plt\n",
    "\n",
    "import geopandas as gpd\n",
    "import rasterio as rasio\n",
    "import rasterio.features as rasioftr\n",
    "\n",
    "from affine import Affine"
   ]
  },
  {
   "cell_type": "code",
   "execution_count": 2,
   "metadata": {},
   "outputs": [],
   "source": [
    "#your filename of shapefile\n",
    "filename = '/work/a01/hnara/lake_volume/upper_basin/upper_basin_shape/Mead/Mead.shp'\n",
    "\n",
    "#reading shape file by using geopandas\n",
    "shape = gpd.read_file(filename)\n",
    "\n",
    "#this step may not be needed in your code, if your shape file has other column\n",
    "shape['value'] = 1"
   ]
  },
  {
   "cell_type": "code",
   "execution_count": 3,
   "metadata": {},
   "outputs": [
    {
     "name": "stdout",
     "output_type": "stream",
     "text": [
      "   FID                                           geometry  value\n",
      "0    0  POLYGON ((-110.30000 43.40000, -109.70000 43.4...      1\n"
     ]
    }
   ],
   "source": [
    "#show your shape file data\n",
    "print(shape.head())"
   ]
  },
  {
   "cell_type": "code",
   "execution_count": 4,
   "metadata": {},
   "outputs": [],
   "source": [
    "#item is the column which you want to keep when rasterizing\n",
    "item = 'value'\n",
    "shps = [(s, i) for i, s in zip(shape[item], shape['geometry'])]"
   ]
  },
  {
   "cell_type": "code",
   "execution_count": 5,
   "metadata": {},
   "outputs": [
    {
     "name": "stdout",
     "output_type": "stream",
     "text": [
      "| 1.00, 0.00,-180.00|\n",
      "| 0.00,-1.00, 90.00|\n",
      "| 0.00, 0.00, 1.00|\n"
     ]
    }
   ],
   "source": [
    "#this is the transformation step of coordinate system, and you may need to change a little\n",
    "#in this case, earth coordinate system is converted to numpy array\n",
    "nlatlon = (180, 360)\n",
    "WSEN_ar = (-180, -90, 180, 90)\n",
    "transform=Affine(1, 0, -180, 0, -1, 90)\n",
    "print(transform)"
   ]
  },
  {
   "cell_type": "code",
   "execution_count": 6,
   "metadata": {},
   "outputs": [],
   "source": [
    "#rasterization step\n",
    "#fill is the value outside the polygon\n",
    "result = rasioftr.rasterize(\n",
    "    shps,\n",
    "    out_shape=nlatlon,\n",
    "    transform=transform,\n",
    "    fill=np.nan,\n",
    "    all_touched=True)"
   ]
  },
  {
   "cell_type": "code",
   "execution_count": 7,
   "metadata": {},
   "outputs": [
    {
     "data": {
      "text/plain": [
       "<matplotlib.axes._subplots.AxesSubplot at 0x7f8000706c10>"
      ]
     },
     "execution_count": 7,
     "metadata": {},
     "output_type": "execute_result"
    },
    {
     "data": {
      "image/png": "[encoded data removed]",
      "text/plain": [
       "<Figure size 432x288 with 1 Axes>"
      ]
     },
     "metadata": {
      "needs_background": "light"
     },
     "output_type": "display_data"
    }
   ],
   "source": [
    "#original shape file\n",
    "shape.plot()"
   ]
  },
  {
   "cell_type": "code",
   "execution_count": 8,
   "metadata": {},
   "outputs": [
    {
     "data": {
      "image/png": "[encoded data removed]",
      "text/plain": [
       "<Figure size 432x288 with 1 Axes>"
      ]
     },
     "metadata": {
      "needs_background": "light"
     },
     "output_type": "display_data"
    }
   ],
   "source": [
    "#rasterized data\n",
    "plt.figure()\n",
    "plt.imshow(result)\n",
    "plt.xlim(60,80)\n",
    "plt.ylim(60,40)\n",
    "plt.show()"
   ]
  },
  {
   "cell_type": "code",
   "execution_count": null,
   "metadata": {},
   "outputs": [],
   "source": []
  },
  {
   "cell_type": "code",
   "execution_count": null,
   "metadata": {},
   "outputs": [],
   "source": []
  }
 ],
 "metadata": {
  "kernelspec": {
   "display_name": "Python 3",
   "language": "python",
   "name": "python3"
  },
  "language_info": {
   "codemirror_mode": {
    "name": "ipython",
    "version": 3
   },
   "file_extension": ".py",
   "mimetype": "text/x-python",
   "name": "python",
   "nbconvert_exporter": "python",
   "pygments_lexer": "ipython3",
   "version": "3.7.7"
  }
 },
 "nbformat": 4,
 "nbformat_minor": 4
}
